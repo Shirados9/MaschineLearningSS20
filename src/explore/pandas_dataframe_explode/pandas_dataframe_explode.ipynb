{
 "cells": [
  {
   "cell_type": "markdown",
   "source": [
    "* [https://www.w3resource.com/pandas/dataframe/dataframe-explode.php](https://www.w3resource.com/pandas/dataframe/dataframe-explode.php)\n",
    "* [https://stackoverflow.com/a/45846853](https://stackoverflow.com/a/45846853)\n",
    "* [https://stackoverflow.com/a/53218939](https://stackoverflow.com/a/53218939)\n",
    "\n",
    "Before 'explode':"
   ],
   "metadata": {
    "collapsed": false,
    "pycharm": {
     "name": "#%% md\n"
    }
   }
  },
  {
   "cell_type": "code",
   "execution_count": null,
   "metadata": {
    "collapsed": true
   },
   "outputs": [],
   "source": [
    "import pandas as pd\n",
    "\n",
    "df = pd.DataFrame({'A': ['x1','x2','x3', 'x4'], 'B':[['v1','v2'],['v3','v4'],['v5','v6'],['v7','v8']], 'C':[['c1','c2'],['c3','c4'],['c5','c6'],['c7','c8']],'D':[['d1','d2'],['d3','d4'],['d5','d6'],['d7','d8']], 'E':[['e1','e2'],['e3','e4'],['e5','e6'],['e7','e8']]})\n",
    "df"
   ]
  },
  {
   "cell_type": "markdown",
   "source": [
    "After 'explode':"
   ],
   "metadata": {
    "collapsed": false,
    "pycharm": {
     "name": "#%% md\n"
    }
   }
  },
  {
   "cell_type": "code",
   "execution_count": null,
   "outputs": [],
   "source": [
    "df_exploded = (df.set_index('A')\n",
    "              .apply(lambda x: x.apply(pd.Series).stack())\n",
    "              .reset_index()\n",
    "              .drop('level_1', 1))\n",
    "df_exploded"
   ],
   "metadata": {
    "collapsed": false,
    "pycharm": {
     "name": "#%%\n"
    }
   }
  },
  {
   "cell_type": "markdown",
   "source": [
    "Second approach:\n",
    "\n",
    "[https://stackoverflow.com/a/53218939](https://stackoverflow.com/a/53218939)"
   ],
   "metadata": {
    "collapsed": false
   }
  },
  {
   "cell_type": "code",
   "execution_count": null,
   "outputs": [],
   "source": [
    "df = pd.DataFrame({'A': ['x1','x2','x3', 'x4'],\n",
    "                   'B':[['v1','v2'],['v3','v4'],['v5','v6'],['v7','v8']],\n",
    "                   'C':[['c1','c2'],['c3','c4'],['c5','c6'],['c7','c8']],\n",
    "                   'D':[['d1','d2'],['d3','d4'],['d5','d6'],['d7','d8']],\n",
    "                   'E':[['e1','e2'],['e3','e4'],['e5','e6'],['e7','e8']],\n",
    "                   'F': ['y1', 'y2', 'y3', 'y4']})"
   ],
   "metadata": {
    "collapsed": false,
    "pycharm": {
     "name": "#%%\n"
    }
   }
  },
  {
   "cell_type": "code",
   "execution_count": null,
   "outputs": [],
   "source": [
    "import numpy as np\n",
    "def unnesting(df, explode):\n",
    "    idx = df.index.repeat(df[explode[0]].str.len())\n",
    "    df1 = pd.concat([\n",
    "        pd.DataFrame({x: np.concatenate(df[x].values)}) for x in explode], axis=1)\n",
    "    df1.index = idx\n",
    "\n",
    "    return df1.join(df.drop(explode, 1), how='left').reset_index(drop=True)"
   ],
   "metadata": {
    "collapsed": false,
    "pycharm": {
     "name": "#%%\n"
    }
   }
  },
  {
   "cell_type": "code",
   "execution_count": null,
   "outputs": [],
   "source": [
    "unnesting(df,['B','C','D','E'])"
   ],
   "metadata": {
    "collapsed": false,
    "pycharm": {
     "name": "#%%\n"
    }
   }
  }
 ],
 "metadata": {
  "kernelspec": {
   "display_name": "Python 3",
   "language": "python",
   "name": "python3"
  },
  "language_info": {
   "codemirror_mode": {
    "name": "ipython",
    "version": 2
   },
   "file_extension": ".py",
   "mimetype": "text/x-python",
   "name": "python",
   "nbconvert_exporter": "python",
   "pygments_lexer": "ipython2",
   "version": "2.7.6"
  }
 },
 "nbformat": 4,
 "nbformat_minor": 0
}