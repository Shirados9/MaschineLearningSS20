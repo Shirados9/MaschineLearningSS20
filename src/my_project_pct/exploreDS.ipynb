{
 "cells": [
  {
   "cell_type": "code",
   "execution_count": 37,
   "metadata": {
    "collapsed": true
   },
   "outputs": [],
   "source": [
    "import pandas as pd\n",
    "import matplotlib.pyplot as plt"
   ]
  },
  {
   "cell_type": "code",
   "execution_count": 38,
   "outputs": [
    {
     "data": {
      "text/plain": "            id_plane           id_x           id_y        i_event  \\\ncount  220138.000000  220138.000000  220138.000000  220138.000000   \nmean        0.977087     542.052535     293.056724  121902.603517   \nstd         0.808873     164.238880      95.414469   68927.426627   \nmin         0.000000       0.000000       0.000000      32.000000   \n25%         0.000000     498.000000     253.000000   62468.000000   \n50%         1.000000     540.000000     293.000000  125313.000000   \n75%         2.000000     587.000000     340.000000  179091.000000   \nmax         2.000000    1023.000000     511.000000  240306.000000   \n\n       i_time_stamp  \ncount  2.201380e+05  \nmean   9.747214e+09  \nstd    5.513849e+09  \nmin    2.160000e+04  \n25%    4.991985e+09  \n50%    1.002388e+10  \n75%    1.431988e+10  \nmax    1.921583e+10  ",
      "text/html": "<div>\n<style scoped>\n    .dataframe tbody tr th:only-of-type {\n        vertical-align: middle;\n    }\n\n    .dataframe tbody tr th {\n        vertical-align: top;\n    }\n\n    .dataframe thead th {\n        text-align: right;\n    }\n</style>\n<table border=\"1\" class=\"dataframe\">\n  <thead>\n    <tr style=\"text-align: right;\">\n      <th></th>\n      <th>id_plane</th>\n      <th>id_x</th>\n      <th>id_y</th>\n      <th>i_event</th>\n      <th>i_time_stamp</th>\n    </tr>\n  </thead>\n  <tbody>\n    <tr>\n      <th>count</th>\n      <td>220138.000000</td>\n      <td>220138.000000</td>\n      <td>220138.000000</td>\n      <td>220138.000000</td>\n      <td>2.201380e+05</td>\n    </tr>\n    <tr>\n      <th>mean</th>\n      <td>0.977087</td>\n      <td>542.052535</td>\n      <td>293.056724</td>\n      <td>121902.603517</td>\n      <td>9.747214e+09</td>\n    </tr>\n    <tr>\n      <th>std</th>\n      <td>0.808873</td>\n      <td>164.238880</td>\n      <td>95.414469</td>\n      <td>68927.426627</td>\n      <td>5.513849e+09</td>\n    </tr>\n    <tr>\n      <th>min</th>\n      <td>0.000000</td>\n      <td>0.000000</td>\n      <td>0.000000</td>\n      <td>32.000000</td>\n      <td>2.160000e+04</td>\n    </tr>\n    <tr>\n      <th>25%</th>\n      <td>0.000000</td>\n      <td>498.000000</td>\n      <td>253.000000</td>\n      <td>62468.000000</td>\n      <td>4.991985e+09</td>\n    </tr>\n    <tr>\n      <th>50%</th>\n      <td>1.000000</td>\n      <td>540.000000</td>\n      <td>293.000000</td>\n      <td>125313.000000</td>\n      <td>1.002388e+10</td>\n    </tr>\n    <tr>\n      <th>75%</th>\n      <td>2.000000</td>\n      <td>587.000000</td>\n      <td>340.000000</td>\n      <td>179091.000000</td>\n      <td>1.431988e+10</td>\n    </tr>\n    <tr>\n      <th>max</th>\n      <td>2.000000</td>\n      <td>1023.000000</td>\n      <td>511.000000</td>\n      <td>240306.000000</td>\n      <td>1.921583e+10</td>\n    </tr>\n  </tbody>\n</table>\n</div>"
     },
     "execution_count": 38,
     "metadata": {},
     "output_type": "execute_result"
    }
   ],
   "source": [
    "df = pd.read_csv(\"pctdata.csv\")\n",
    "df.describe()"
   ],
   "metadata": {
    "collapsed": false,
    "pycharm": {
     "name": "#%%\n"
    }
   }
  },
  {
   "cell_type": "code",
   "execution_count": 39,
   "outputs": [
    {
     "name": "stdout",
     "output_type": "stream",
     "text": [
      "df:\n",
      "Rows: 220138\n",
      "Columns: 5\n"
     ]
    }
   ],
   "source": [
    "print(\"df:\\nRows: \" + str(df.shape[0]) + \"\\nColumns: \" + str(df.shape[1]))"
   ],
   "metadata": {
    "collapsed": false,
    "pycharm": {
     "name": "#%%\n"
    }
   }
  },
  {
   "cell_type": "markdown",
   "source": [
    "### Check for any null entries (invalid data)"
   ],
   "metadata": {
    "collapsed": false
   }
  },
  {
   "cell_type": "code",
   "execution_count": 40,
   "outputs": [
    {
     "name": "stdout",
     "output_type": "stream",
     "text": [
      "        id_plane   id_x   id_y  i_event  i_time_stamp\n",
      "0          False  False  False    False         False\n",
      "1          False  False  False    False         False\n",
      "2          False  False  False    False         False\n",
      "3          False  False  False    False         False\n",
      "4          False  False  False    False         False\n",
      "...          ...    ...    ...      ...           ...\n",
      "220133     False  False  False    False         False\n",
      "220134     False  False  False    False         False\n",
      "220135     False  False  False    False         False\n",
      "220136     False  False  False    False         False\n",
      "220137     False  False  False    False         False\n",
      "\n",
      "[220138 rows x 5 columns]\n"
     ]
    }
   ],
   "source": [
    "print(df.isnull())"
   ],
   "metadata": {
    "collapsed": false,
    "pycharm": {
     "name": "#%%\n"
    }
   }
  },
  {
   "cell_type": "markdown",
   "source": [
    "### Print only the unique numbers of id_plane"
   ],
   "metadata": {
    "collapsed": false
   }
  },
  {
   "cell_type": "code",
   "execution_count": 41,
   "outputs": [
    {
     "name": "stdout",
     "output_type": "stream",
     "text": [
      "Unique id_plane numbers: \n",
      "[1 2 0]\n"
     ]
    }
   ],
   "source": [
    "print(\"Unique id_plane numbers: \")\n",
    "print(df['id_plane'].unique())"
   ],
   "metadata": {
    "collapsed": false,
    "pycharm": {
     "name": "#%%\n"
    }
   }
  },
  {
   "cell_type": "markdown",
   "source": [
    "## Print first and last 20 lines to see some of the data"
   ],
   "metadata": {
    "collapsed": false,
    "pycharm": {
     "name": "#%% md\n"
    }
   }
  },
  {
   "cell_type": "code",
   "execution_count": 42,
   "outputs": [
    {
     "data": {
      "text/plain": "    id_plane   id_x   id_y  i_event  i_time_stamp\n0          1  492.0  310.0       32         21600\n1          1  493.0  310.0       32         21600\n2          1  493.0  311.0       32         21600\n3          1  492.0  311.0       32         21600\n4          1  493.0  312.0       32         21600\n5          1  493.0  313.0       32         21600\n6          1  495.0  311.0       32         21600\n7          1  494.0  311.0       32         21600\n8          1  494.0  312.0       32         21600\n9          1  495.0  312.0       32         21600\n10         1  495.0  313.0       32         21600\n11         1  494.0  313.0       32         21600\n12         1  494.0  314.0       32         21600\n13         1  495.0  314.0       32         21600\n14         1  496.0  312.0       32         21600\n15         1  496.0  313.0       32         21600\n16         1  492.0  310.0       33         22400\n17         1  493.0  310.0       33         22400\n18         1  493.0  311.0       33         22400\n19         1  492.0  311.0       33         22400",
      "text/html": "<div>\n<style scoped>\n    .dataframe tbody tr th:only-of-type {\n        vertical-align: middle;\n    }\n\n    .dataframe tbody tr th {\n        vertical-align: top;\n    }\n\n    .dataframe thead th {\n        text-align: right;\n    }\n</style>\n<table border=\"1\" class=\"dataframe\">\n  <thead>\n    <tr style=\"text-align: right;\">\n      <th></th>\n      <th>id_plane</th>\n      <th>id_x</th>\n      <th>id_y</th>\n      <th>i_event</th>\n      <th>i_time_stamp</th>\n    </tr>\n  </thead>\n  <tbody>\n    <tr>\n      <th>0</th>\n      <td>1</td>\n      <td>492.0</td>\n      <td>310.0</td>\n      <td>32</td>\n      <td>21600</td>\n    </tr>\n    <tr>\n      <th>1</th>\n      <td>1</td>\n      <td>493.0</td>\n      <td>310.0</td>\n      <td>32</td>\n      <td>21600</td>\n    </tr>\n    <tr>\n      <th>2</th>\n      <td>1</td>\n      <td>493.0</td>\n      <td>311.0</td>\n      <td>32</td>\n      <td>21600</td>\n    </tr>\n    <tr>\n      <th>3</th>\n      <td>1</td>\n      <td>492.0</td>\n      <td>311.0</td>\n      <td>32</td>\n      <td>21600</td>\n    </tr>\n    <tr>\n      <th>4</th>\n      <td>1</td>\n      <td>493.0</td>\n      <td>312.0</td>\n      <td>32</td>\n      <td>21600</td>\n    </tr>\n    <tr>\n      <th>5</th>\n      <td>1</td>\n      <td>493.0</td>\n      <td>313.0</td>\n      <td>32</td>\n      <td>21600</td>\n    </tr>\n    <tr>\n      <th>6</th>\n      <td>1</td>\n      <td>495.0</td>\n      <td>311.0</td>\n      <td>32</td>\n      <td>21600</td>\n    </tr>\n    <tr>\n      <th>7</th>\n      <td>1</td>\n      <td>494.0</td>\n      <td>311.0</td>\n      <td>32</td>\n      <td>21600</td>\n    </tr>\n    <tr>\n      <th>8</th>\n      <td>1</td>\n      <td>494.0</td>\n      <td>312.0</td>\n      <td>32</td>\n      <td>21600</td>\n    </tr>\n    <tr>\n      <th>9</th>\n      <td>1</td>\n      <td>495.0</td>\n      <td>312.0</td>\n      <td>32</td>\n      <td>21600</td>\n    </tr>\n    <tr>\n      <th>10</th>\n      <td>1</td>\n      <td>495.0</td>\n      <td>313.0</td>\n      <td>32</td>\n      <td>21600</td>\n    </tr>\n    <tr>\n      <th>11</th>\n      <td>1</td>\n      <td>494.0</td>\n      <td>313.0</td>\n      <td>32</td>\n      <td>21600</td>\n    </tr>\n    <tr>\n      <th>12</th>\n      <td>1</td>\n      <td>494.0</td>\n      <td>314.0</td>\n      <td>32</td>\n      <td>21600</td>\n    </tr>\n    <tr>\n      <th>13</th>\n      <td>1</td>\n      <td>495.0</td>\n      <td>314.0</td>\n      <td>32</td>\n      <td>21600</td>\n    </tr>\n    <tr>\n      <th>14</th>\n      <td>1</td>\n      <td>496.0</td>\n      <td>312.0</td>\n      <td>32</td>\n      <td>21600</td>\n    </tr>\n    <tr>\n      <th>15</th>\n      <td>1</td>\n      <td>496.0</td>\n      <td>313.0</td>\n      <td>32</td>\n      <td>21600</td>\n    </tr>\n    <tr>\n      <th>16</th>\n      <td>1</td>\n      <td>492.0</td>\n      <td>310.0</td>\n      <td>33</td>\n      <td>22400</td>\n    </tr>\n    <tr>\n      <th>17</th>\n      <td>1</td>\n      <td>493.0</td>\n      <td>310.0</td>\n      <td>33</td>\n      <td>22400</td>\n    </tr>\n    <tr>\n      <th>18</th>\n      <td>1</td>\n      <td>493.0</td>\n      <td>311.0</td>\n      <td>33</td>\n      <td>22400</td>\n    </tr>\n    <tr>\n      <th>19</th>\n      <td>1</td>\n      <td>492.0</td>\n      <td>311.0</td>\n      <td>33</td>\n      <td>22400</td>\n    </tr>\n  </tbody>\n</table>\n</div>"
     },
     "execution_count": 42,
     "metadata": {},
     "output_type": "execute_result"
    }
   ],
   "source": [
    "df.head(20)"
   ],
   "metadata": {
    "collapsed": false,
    "pycharm": {
     "name": "#%%\n"
    }
   }
  },
  {
   "cell_type": "code",
   "execution_count": 43,
   "outputs": [
    {
     "data": {
      "text/plain": "        id_plane   id_x   id_y  i_event  i_time_stamp\n220118         0  499.0  484.0   240276   19215805070\n220119         0  500.0  483.0   240276   19215805070\n220120         0  500.0  484.0   240276   19215805070\n220121         0  499.0  482.0   240277   19215805870\n220122         0  498.0  483.0   240277   19215805870\n220123         0  498.0  484.0   240277   19215805870\n220124         0  499.0  484.0   240277   19215805870\n220125         0  500.0  483.0   240277   19215805870\n220126         0  500.0  484.0   240277   19215805870\n220127         0  471.0  270.0   240306   19215829070\n220128         0  471.0  271.0   240306   19215829070\n220129         0  471.0  272.0   240306   19215829070\n220130         0  472.0  270.0   240306   19215829070\n220131         0  473.0  270.0   240306   19215829070\n220132         0  473.0  271.0   240306   19215829070\n220133         0  472.0  271.0   240306   19215829070\n220134         0  472.0  272.0   240306   19215829070\n220135         0  473.0  272.0   240306   19215829070\n220136         0  472.0  273.0   240306   19215829070\n220137         0  474.0  271.0   240306   19215829070",
      "text/html": "<div>\n<style scoped>\n    .dataframe tbody tr th:only-of-type {\n        vertical-align: middle;\n    }\n\n    .dataframe tbody tr th {\n        vertical-align: top;\n    }\n\n    .dataframe thead th {\n        text-align: right;\n    }\n</style>\n<table border=\"1\" class=\"dataframe\">\n  <thead>\n    <tr style=\"text-align: right;\">\n      <th></th>\n      <th>id_plane</th>\n      <th>id_x</th>\n      <th>id_y</th>\n      <th>i_event</th>\n      <th>i_time_stamp</th>\n    </tr>\n  </thead>\n  <tbody>\n    <tr>\n      <th>220118</th>\n      <td>0</td>\n      <td>499.0</td>\n      <td>484.0</td>\n      <td>240276</td>\n      <td>19215805070</td>\n    </tr>\n    <tr>\n      <th>220119</th>\n      <td>0</td>\n      <td>500.0</td>\n      <td>483.0</td>\n      <td>240276</td>\n      <td>19215805070</td>\n    </tr>\n    <tr>\n      <th>220120</th>\n      <td>0</td>\n      <td>500.0</td>\n      <td>484.0</td>\n      <td>240276</td>\n      <td>19215805070</td>\n    </tr>\n    <tr>\n      <th>220121</th>\n      <td>0</td>\n      <td>499.0</td>\n      <td>482.0</td>\n      <td>240277</td>\n      <td>19215805870</td>\n    </tr>\n    <tr>\n      <th>220122</th>\n      <td>0</td>\n      <td>498.0</td>\n      <td>483.0</td>\n      <td>240277</td>\n      <td>19215805870</td>\n    </tr>\n    <tr>\n      <th>220123</th>\n      <td>0</td>\n      <td>498.0</td>\n      <td>484.0</td>\n      <td>240277</td>\n      <td>19215805870</td>\n    </tr>\n    <tr>\n      <th>220124</th>\n      <td>0</td>\n      <td>499.0</td>\n      <td>484.0</td>\n      <td>240277</td>\n      <td>19215805870</td>\n    </tr>\n    <tr>\n      <th>220125</th>\n      <td>0</td>\n      <td>500.0</td>\n      <td>483.0</td>\n      <td>240277</td>\n      <td>19215805870</td>\n    </tr>\n    <tr>\n      <th>220126</th>\n      <td>0</td>\n      <td>500.0</td>\n      <td>484.0</td>\n      <td>240277</td>\n      <td>19215805870</td>\n    </tr>\n    <tr>\n      <th>220127</th>\n      <td>0</td>\n      <td>471.0</td>\n      <td>270.0</td>\n      <td>240306</td>\n      <td>19215829070</td>\n    </tr>\n    <tr>\n      <th>220128</th>\n      <td>0</td>\n      <td>471.0</td>\n      <td>271.0</td>\n      <td>240306</td>\n      <td>19215829070</td>\n    </tr>\n    <tr>\n      <th>220129</th>\n      <td>0</td>\n      <td>471.0</td>\n      <td>272.0</td>\n      <td>240306</td>\n      <td>19215829070</td>\n    </tr>\n    <tr>\n      <th>220130</th>\n      <td>0</td>\n      <td>472.0</td>\n      <td>270.0</td>\n      <td>240306</td>\n      <td>19215829070</td>\n    </tr>\n    <tr>\n      <th>220131</th>\n      <td>0</td>\n      <td>473.0</td>\n      <td>270.0</td>\n      <td>240306</td>\n      <td>19215829070</td>\n    </tr>\n    <tr>\n      <th>220132</th>\n      <td>0</td>\n      <td>473.0</td>\n      <td>271.0</td>\n      <td>240306</td>\n      <td>19215829070</td>\n    </tr>\n    <tr>\n      <th>220133</th>\n      <td>0</td>\n      <td>472.0</td>\n      <td>271.0</td>\n      <td>240306</td>\n      <td>19215829070</td>\n    </tr>\n    <tr>\n      <th>220134</th>\n      <td>0</td>\n      <td>472.0</td>\n      <td>272.0</td>\n      <td>240306</td>\n      <td>19215829070</td>\n    </tr>\n    <tr>\n      <th>220135</th>\n      <td>0</td>\n      <td>473.0</td>\n      <td>272.0</td>\n      <td>240306</td>\n      <td>19215829070</td>\n    </tr>\n    <tr>\n      <th>220136</th>\n      <td>0</td>\n      <td>472.0</td>\n      <td>273.0</td>\n      <td>240306</td>\n      <td>19215829070</td>\n    </tr>\n    <tr>\n      <th>220137</th>\n      <td>0</td>\n      <td>474.0</td>\n      <td>271.0</td>\n      <td>240306</td>\n      <td>19215829070</td>\n    </tr>\n  </tbody>\n</table>\n</div>"
     },
     "execution_count": 43,
     "metadata": {},
     "output_type": "execute_result"
    }
   ],
   "source": [
    "df.tail(20)"
   ],
   "metadata": {
    "collapsed": false,
    "pycharm": {
     "name": "#%%\n"
    }
   }
  },
  {
   "cell_type": "markdown",
   "source": [
    "### Datatype of Columns"
   ],
   "metadata": {
    "collapsed": false,
    "pycharm": {
     "name": "#%% md\n"
    }
   }
  },
  {
   "cell_type": "code",
   "execution_count": 44,
   "outputs": [
    {
     "name": "stdout",
     "output_type": "stream",
     "text": [
      "Names of column:  Datatype: \n",
      "id_plane          int64\n",
      "id_x            float64\n",
      "id_y            float64\n",
      "i_event           int64\n",
      "i_time_stamp      int64\n",
      "dtype: object\n"
     ]
    }
   ],
   "source": [
    "print(\"Names of column:  Datatype: \" + \"\\n\" + str(df.dtypes))"
   ],
   "metadata": {
    "collapsed": false,
    "pycharm": {
     "name": "#%%\n"
    }
   }
  },
  {
   "cell_type": "markdown",
   "source": [
    "### What we know so far:\n",
    "- 3 chips (id_planes) with the values 0 , 1 , 2\n",
    "    * type int64\n",
    "- id_x values range from 0 to 1024\n",
    "    * type float64\n",
    "- id_y values range from 0 to 511\n",
    "    * type float64\n",
    "- id_x and id_y are most likely coordinates which give the chips a resolution of 1024 by 512\n",
    "- id_event values range from 32 to 240306\n",
    "    * type int64\n",
    "- i_time_stamp values range from 21600 to 19215830000\n",
    "    * type int64\n",
    "- no invalid data in the dataset"
   ],
   "metadata": {
    "collapsed": false,
    "pycharm": {
     "name": "#%% md\n"
    }
   }
  },
  {
   "cell_type": "markdown",
   "source": [
    "### Check for hits on the chip\n",
    "#### First Third of id_x values"
   ],
   "metadata": {
    "collapsed": false,
    "pycharm": {
     "name": "#%% md\n"
    }
   }
  },
  {
   "cell_type": "code",
   "execution_count": 45,
   "outputs": [
    {
     "name": "stdout",
     "output_type": "stream",
     "text": [
      "Rows where x is smaller than 341\n",
      "        id_plane   id_x   id_y  i_event  i_time_stamp\n",
      "681            0  291.0   88.0      440      32026798\n",
      "682            0  291.0   89.0      440      32026798\n",
      "683            0  290.0   89.0      440      32026798\n",
      "684            0  291.0   90.0      440      32026798\n",
      "685            0  292.0   88.0      440      32026798\n",
      "...          ...    ...    ...      ...           ...\n",
      "219969         0  332.0  440.0   240191   19207817172\n",
      "219970         0  331.0  439.0   240192   19207817972\n",
      "219971         0  331.0  440.0   240192   19207817972\n",
      "219972         0  332.0  439.0   240192   19207817972\n",
      "219973         0  332.0  440.0   240192   19207817972\n",
      "\n",
      "[20660 rows x 5 columns]\n"
     ]
    }
   ],
   "source": [
    "print(\"Rows where x is smaller than 341\" + \"\\n\" + str(df[df[\"id_x\"] <= 340]))\n"
   ],
   "metadata": {
    "collapsed": false,
    "pycharm": {
     "name": "#%%\n"
    }
   }
  },
  {
   "cell_type": "markdown",
   "source": [
    "#### Second Third of id_x values"
   ],
   "metadata": {
    "collapsed": false
   }
  },
  {
   "cell_type": "code",
   "execution_count": 46,
   "outputs": [
    {
     "name": "stdout",
     "output_type": "stream",
     "text": [
      "Rows where y is bigger than 170 and smaller than 339\n",
      "        id_plane   id_x   id_y  i_event  i_time_stamp\n",
      "0              1  492.0  310.0       32         21600\n",
      "1              1  493.0  310.0       32         21600\n",
      "2              1  493.0  311.0       32         21600\n",
      "3              1  492.0  311.0       32         21600\n",
      "4              1  493.0  312.0       32         21600\n",
      "...          ...    ...    ...      ...           ...\n",
      "220133         0  472.0  271.0   240306   19215829070\n",
      "220134         0  472.0  272.0   240306   19215829070\n",
      "220135         0  473.0  272.0   240306   19215829070\n",
      "220136         0  472.0  273.0   240306   19215829070\n",
      "220137         0  474.0  271.0   240306   19215829070\n",
      "\n",
      "[157858 rows x 5 columns]\n"
     ]
    }
   ],
   "source": [
    "print(\"Rows where y is bigger than 170 and smaller than 339\" + \"\\n\" + str(df.loc[(df['id_x'] > 340) & (df['id_x'] <= 620)]))"
   ],
   "metadata": {
    "collapsed": false,
    "pycharm": {
     "name": "#%%\n"
    }
   }
  },
  {
   "cell_type": "markdown",
   "source": [
    "### Last Third of id_x values"
   ],
   "metadata": {
    "collapsed": false,
    "pycharm": {
     "name": "#%% md\n"
    }
   }
  },
  {
   "cell_type": "code",
   "execution_count": 47,
   "outputs": [
    {
     "name": "stdout",
     "output_type": "stream",
     "text": [
      "Rows where x is bigger than 620\n",
      "        id_plane   id_x   id_y  i_event  i_time_stamp\n",
      "88             2  867.0   29.0       56         40798\n",
      "89             2  867.0   30.0       56         40798\n",
      "90             2  867.0   31.0       56         40798\n",
      "91             2  868.0   28.0       56         40798\n",
      "92             2  869.0   28.0       56         40798\n",
      "...          ...    ...    ...      ...           ...\n",
      "220109         0  645.0  381.0   240258   19215790670\n",
      "220110         0  644.0  381.0   240258   19215790670\n",
      "220111         0  644.0  382.0   240258   19215790670\n",
      "220112         0  645.0  382.0   240258   19215790670\n",
      "220113         0  644.0  383.0   240258   19215790670\n",
      "\n",
      "[41620 rows x 5 columns]\n"
     ]
    }
   ],
   "source": [
    "print(\"Rows where x is bigger than 620\" + \"\\n\" + str(df[df[\"id_x\"] > 620]))"
   ],
   "metadata": {
    "collapsed": false,
    "pycharm": {
     "name": "#%%\n"
    }
   }
  },
  {
   "cell_type": "markdown",
   "source": [
    "#### First Third of id_y values"
   ],
   "metadata": {
    "collapsed": false,
    "pycharm": {
     "name": "#%% md\n"
    }
   }
  },
  {
   "cell_type": "code",
   "execution_count": 48,
   "outputs": [
    {
     "name": "stdout",
     "output_type": "stream",
     "text": [
      "Rows where y is smaller  than 171\n",
      "        id_plane   id_x  id_y  i_event  i_time_stamp\n",
      "88             2  867.0  29.0       56         40798\n",
      "89             2  867.0  30.0       56         40798\n",
      "90             2  867.0  31.0       56         40798\n",
      "91             2  868.0  28.0       56         40798\n",
      "92             2  869.0  28.0       56         40798\n",
      "...          ...    ...   ...      ...           ...\n",
      "219832         0  681.0  71.0   240017   19199758074\n",
      "219833         0  680.0  71.0   240017   19199758074\n",
      "219834         0  682.0  68.0   240017   19199758074\n",
      "219835         0  682.0  69.0   240017   19199758074\n",
      "219836         0  682.0  70.0   240017   19199758074\n",
      "\n",
      "[21605 rows x 5 columns]\n"
     ]
    }
   ],
   "source": [
    "print(\"Rows where y is smaller  than 171\" + \"\\n\" + str(df[df[\"id_y\"] <= 170]))"
   ],
   "metadata": {
    "collapsed": false,
    "pycharm": {
     "name": "#%%\n"
    }
   }
  },
  {
   "cell_type": "markdown",
   "source": [
    "#### Second Third of id_y values"
   ],
   "metadata": {
    "collapsed": false,
    "pycharm": {
     "name": "#%% md\n"
    }
   }
  },
  {
   "cell_type": "code",
   "execution_count": 49,
   "outputs": [
    {
     "name": "stdout",
     "output_type": "stream",
     "text": [
      "Rows where y is bigger than 170 and smaller than 339\n",
      "        id_plane   id_x   id_y  i_event  i_time_stamp\n",
      "0              1  492.0  310.0       32         21600\n",
      "1              1  493.0  310.0       32         21600\n",
      "2              1  493.0  311.0       32         21600\n",
      "3              1  492.0  311.0       32         21600\n",
      "4              1  493.0  312.0       32         21600\n",
      "...          ...    ...    ...      ...           ...\n",
      "220133         0  472.0  271.0   240306   19215829070\n",
      "220134         0  472.0  272.0   240306   19215829070\n",
      "220135         0  473.0  272.0   240306   19215829070\n",
      "220136         0  472.0  273.0   240306   19215829070\n",
      "220137         0  474.0  271.0   240306   19215829070\n",
      "\n",
      "[142208 rows x 5 columns]\n"
     ]
    }
   ],
   "source": [
    "print(\"Rows where y is bigger than 170 and smaller than 339\" + \"\\n\" + str(df.loc[(df['id_y'] > 170) & (df['id_y'] <= 338)]))"
   ],
   "metadata": {
    "collapsed": false,
    "pycharm": {
     "name": "#%%\n"
    }
   }
  },
  {
   "cell_type": "markdown",
   "source": [
    "#### Last Third of id_y values"
   ],
   "metadata": {
    "collapsed": false,
    "pycharm": {
     "name": "#%% md\n"
    }
   }
  },
  {
   "cell_type": "code",
   "execution_count": 50,
   "outputs": [
    {
     "name": "stdout",
     "output_type": "stream",
     "text": [
      "Rows where y is bigger than 338\n",
      "        id_plane   id_x   id_y  i_event  i_time_stamp\n",
      "28             2  558.0  422.0       47         33598\n",
      "29             2  559.0  422.0       47         33598\n",
      "30             2  559.0  423.0       47         33598\n",
      "31             2  558.0  423.0       47         33598\n",
      "32             2  558.0  424.0       47         33598\n",
      "...          ...    ...    ...      ...           ...\n",
      "220122         0  498.0  483.0   240277   19215805870\n",
      "220123         0  498.0  484.0   240277   19215805870\n",
      "220124         0  499.0  484.0   240277   19215805870\n",
      "220125         0  500.0  483.0   240277   19215805870\n",
      "220126         0  500.0  484.0   240277   19215805870\n",
      "\n",
      "[56325 rows x 5 columns]\n"
     ]
    }
   ],
   "source": [
    "print(\"Rows where y is bigger than 338\" + \"\\n\" + str(df[df[\"id_y\"] > 338]))"
   ],
   "metadata": {
    "collapsed": false,
    "pycharm": {
     "name": "#%%\n"
    }
   }
  },
  {
   "cell_type": "markdown",
   "source": [
    "### To note: most of the hits on the chips are around the center values of id_x and id_y"
   ],
   "metadata": {
    "collapsed": false,
    "pycharm": {
     "name": "#%% md\n"
    }
   }
  },
  {
   "cell_type": "markdown",
   "source": [
    "## Looking into i_event and i"
   ],
   "metadata": {
    "collapsed": false,
    "pycharm": {
     "name": "#%% md\n"
    }
   }
  },
  {
   "cell_type": "code",
   "execution_count": 51,
   "outputs": [
    {
     "data": {
      "text/plain": "<Figure size 432x288 with 1 Axes>",
      "image/png": "[encoded data removed]"
     },
     "metadata": {
      "needs_background": "light"
     },
     "output_type": "display_data"
    }
   ],
   "source": [
    "fig, ax = plt.subplots()\n",
    "\n",
    "ax.scatter(df['i_event'], df['id_plane'], s = 1)\n",
    "ax.set_title('relation between i_event and id_plane', c = '#3282b8', fontsize = 20)\n",
    "ax.set_xlabel('i_event', c = '#3282b8', fontsize = 24)\n",
    "ax.set_ylabel('id_plane', c = '#3282b8', fontsize = 24)\n",
    "ax.tick_params(colors = '#3282b8')\n",
    "\n",
    "plt.savefig(\"ExploreDSPlots/relation between i_event and id_plane.png\", bbox_inches='tight')\n",
    "plt.show()\n",
    "plt.close(fig)"
   ],
   "metadata": {
    "collapsed": false,
    "pycharm": {
     "name": "#%%\n"
    }
   }
  },
  {
   "cell_type": "markdown",
   "source": [
    "### Zoomed in because there is probably too much data"
   ],
   "metadata": {
    "collapsed": false,
    "pycharm": {
     "name": "#%% md\n"
    }
   }
  },
  {
   "cell_type": "code",
   "execution_count": 52,
   "outputs": [
    {
     "data": {
      "text/plain": "<Figure size 1152x288 with 1 Axes>",
      "image/png": "[encoded data removed]"
     },
     "metadata": {
      "needs_background": "light"
     },
     "output_type": "display_data"
    }
   ],
   "source": [
    "dfx = df['i_event']\n",
    "dfy = df['id_plane']\n",
    "\n",
    "fig, ax = plt.subplots()\n",
    "fig.set_size_inches(16, 4)\n",
    "\n",
    "ax.scatter(dfx.iloc[:500,], dfy.iloc[:500,])\n",
    "ax.set_title('relation i_event and id_plane (First 500 rows)', c = '#3282b8', fontsize = 20)\n",
    "ax.set_xlabel('i_event', c = '#3282b8', fontsize = 24)\n",
    "ax.set_ylabel('id_plane', c = '#3282b8', fontsize = 24)\n",
    "ax.tick_params(colors = '#3282b8')\n",
    "\n",
    "plt.savefig(\"ExploreDSPlots/relation i_event and id_plane (First 500 rows).png\", bbox_inches='tight')\n",
    "plt.show()\n",
    "plt.close(fig)"
   ],
   "metadata": {
    "collapsed": false,
    "pycharm": {
     "name": "#%%\n"
    }
   }
  },
  {
   "cell_type": "markdown",
   "source": [
    "It looks like every i_event has their own id_plane\n",
    "    * An id_plane has more than one i_event but not one i_event multiple id_planes"
   ],
   "metadata": {
    "collapsed": false,
    "pycharm": {
     "name": "#%% md\n"
    }
   }
  },
  {
   "cell_type": "markdown",
   "source": [
    "## Looking for a correlation  between i_event and i_time_stamp"
   ],
   "metadata": {
    "collapsed": false,
    "pycharm": {
     "name": "#%% md\n"
    }
   }
  },
  {
   "cell_type": "code",
   "execution_count": 53,
   "outputs": [
    {
     "data": {
      "text/plain": "<Figure size 1152x864 with 1 Axes>",
      "image/png": "[encoded data removed]"
     },
     "metadata": {
      "needs_background": "light"
     },
     "output_type": "display_data"
    },
    {
     "data": {
      "text/plain": "<Figure size 1152x864 with 1 Axes>",
      "image/png": "[encoded data removed]"
     },
     "metadata": {
      "needs_background": "light"
     },
     "output_type": "display_data"
    }
   ],
   "source": [
    "fig,ax = plt.subplots()\n",
    "fig.set_size_inches(16,12)\n",
    "\n",
    "ax.plot(df.iloc[:,3], df.iloc[:,4], marker = 'o')\n",
    "ax.set_title('correlation between i_event and i_time_stamp', fontsize= 24, c = '#3282b8')\n",
    "ax.set_xlabel('i_event', c = '#3282b8', fontsize = 24)\n",
    "ax.set_ylabel('i_time_stamp', c = '#3282b8', fontsize = 24)\n",
    "ax.tick_params(colors = '#3282b8', labelsize = 16)\n",
    "\n",
    "plt.savefig(\"ExploreDSPlots/correlation between i_event and i_time_stamp.png\", bbox_inches='tight')\n",
    "plt.show()\n",
    "plt.close(fig)\n",
    "\n",
    "fig,ax = plt.subplots()\n",
    "fig.set_size_inches(16,12)\n",
    "\n",
    "ax.plot(df.iloc[:500,3], df.iloc[:500,4], marker = 'o')\n",
    "ax.set_title('correlation between i_event and i_time_stamp with less data', fontsize= 24, c = '#3282b8')\n",
    "ax.set_xlabel('i_event', c = '#3282b8', fontsize = 24)\n",
    "ax.set_ylabel('i_time_stamp', c = '#3282b8', fontsize = 24)\n",
    "ax.tick_params(colors = '#3282b8', labelsize = 16)\n",
    "\n",
    "plt.savefig(\"ExploreDSPlots/correlation between i_event and i_time_stamp with less data.png\", bbox_inches='tight')\n",
    "plt.show()\n",
    "plt.close(fig)"
   ],
   "metadata": {
    "collapsed": false,
    "pycharm": {
     "name": "#%%\n"
    }
   }
  },
  {
   "cell_type": "markdown",
   "source": [
    "* From the two graphs we can see, that there is some kind of correlation\n",
    "* The gaps between the thicker marker points indicate missing data or that i_event is not continuous\n",
    "* Neither i_event nor i_time_stamp ever drop"
   ],
   "metadata": {
    "collapsed": false,
    "pycharm": {
     "name": "#%% md\n"
    }
   }
  },
  {
   "cell_type": "code",
   "execution_count": 54,
   "outputs": [
    {
     "name": "stdout",
     "output_type": "stream",
     "text": [
      "    id_plane   id_x   id_y  i_event  i_time_stamp\n",
      "28         2  558.0  422.0       47         33598\n",
      "29         2  559.0  422.0       47         33598\n",
      "30         2  559.0  423.0       47         33598\n",
      "31         2  558.0  423.0       47         33598\n",
      "32         2  558.0  424.0       47         33598\n",
      "33         2  559.0  424.0       47         33598\n",
      "34         2  559.0  425.0       47         33598\n",
      "35         2  558.0  425.0       47         33598\n",
      "36         2  560.0  422.0       47         33598\n",
      "37         2  560.0  423.0       47         33598\n",
      "38         2  560.0  424.0       47         33598\n",
      "       id_plane   id_x   id_y  i_event  i_time_stamp\n",
      "41513         1  467.0  287.0    48413    3871955308\n",
      "41514         1  466.0  288.0    48413    3871955308\n",
      "41515         1  467.0  288.0    48413    3871955308\n",
      "41516         1  467.0  289.0    48413    3871955308\n",
      "41517         1  466.0  289.0    48413    3871955308\n",
      "41518         1  467.0  290.0    48413    3871955308\n",
      "41519         1  468.0  287.0    48413    3871955308\n",
      "41520         1  468.0  288.0    48413    3871955308\n",
      "41521         1  468.0  289.0    48413    3871955308\n",
      "41522         1  468.0  290.0    48413    3871955308\n",
      "41523         1  577.0  320.0    48413    3871955308\n",
      "41524         1  577.0  321.0    48413    3871955308\n",
      "41525         1  577.0  322.0    48413    3871955308\n",
      "41526         1  578.0  320.0    48413    3871955308\n",
      "41527         1  579.0  320.0    48413    3871955308\n",
      "41528         1  578.0  322.0    48413    3871955308\n",
      "41529         1  579.0  322.0    48413    3871955308\n",
      "41530         1  580.0  321.0    48413    3871955308\n"
     ]
    }
   ],
   "source": [
    "print(df.loc[df['i_event'] == 47])\n",
    "print(df.loc[df['i_event'] == 48413])"
   ],
   "metadata": {
    "collapsed": false,
    "pycharm": {
     "name": "#%%\n"
    }
   }
  },
  {
   "cell_type": "markdown",
   "source": [
    "On the diagram you cant really see if one i_event value can have multiple different i_time_stamp value or vise versa.\n",
    "</br> But in the print above, its clear, that one i_event only has one i_time_stamp"
   ],
   "metadata": {
    "collapsed": false,
    "pycharm": {
     "name": "#%% md\n"
    }
   }
  },
  {
   "cell_type": "markdown",
   "source": [
    "## Conclusion for now:\n",
    "* i_event is a current snapshot/screenshot of the chip, indicating every hit right at that moment\n",
    "    * i_event has always only one chip as seen in the table above"
   ],
   "metadata": {
    "collapsed": false,
    "pycharm": {
     "name": "#%% md\n"
    }
   }
  }
 ],
 "metadata": {
  "kernelspec": {
   "display_name": "Python 3",
   "language": "python",
   "name": "python3"
  },
  "language_info": {
   "codemirror_mode": {
    "name": "ipython",
    "version": 2
   },
   "file_extension": ".py",
   "mimetype": "text/x-python",
   "name": "python",
   "nbconvert_exporter": "python",
   "pygments_lexer": "ipython2",
   "version": "2.7.6"
  }
 },
 "nbformat": 4,
 "nbformat_minor": 0
}